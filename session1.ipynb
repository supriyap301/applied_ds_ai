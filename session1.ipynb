{
 "cells": [
  {
   "cell_type": "code",
   "execution_count": 1,
   "metadata": {},
   "outputs": [
    {
     "data": {
      "text/plain": [
       "5"
      ]
     },
     "execution_count": 1,
     "metadata": {},
     "output_type": "execute_result"
    }
   ],
   "source": [
    "2+3"
   ]
  },
  {
   "cell_type": "code",
   "execution_count": 5,
   "metadata": {},
   "outputs": [
    {
     "name": "stdout",
     "output_type": "stream",
     "text": [
      "remainder is 5\n",
      "8959\n"
     ]
    }
   ],
   "source": [
    "n=62718\n",
    "rem=n%7\n",
    "print(\"remainder is\",rem)\n",
    "num=n//7\n",
    "print(num)\n",
    "n=num"
   ]
  },
  {
   "cell_type": "code",
   "execution_count": 6,
   "metadata": {},
   "outputs": [
    {
     "name": "stdout",
     "output_type": "stream",
     "text": [
      "remainder is 6\n",
      "1279\n"
     ]
    }
   ],
   "source": [
    "rem=n%7\n",
    "print(\"remainder is\",rem)\n",
    "num=n//7\n",
    "print(num)\n",
    "n=num"
   ]
  },
  {
   "cell_type": "code",
   "execution_count": 7,
   "metadata": {},
   "outputs": [
    {
     "name": "stdout",
     "output_type": "stream",
     "text": [
      "remainder is 5\n",
      "182\n"
     ]
    }
   ],
   "source": [
    "rem=n%7\n",
    "print(\"remainder is\",rem)\n",
    "num=n//7\n",
    "print(num)\n",
    "n=num"
   ]
  },
  {
   "cell_type": "code",
   "execution_count": 8,
   "metadata": {},
   "outputs": [
    {
     "name": "stdout",
     "output_type": "stream",
     "text": [
      "remainder is 0\n",
      "26\n"
     ]
    }
   ],
   "source": [
    "rem=n%7\n",
    "print(\"remainder is\",rem)\n",
    "num=n//7\n",
    "print(num)\n",
    "n=num"
   ]
  },
  {
   "cell_type": "code",
   "execution_count": 9,
   "metadata": {},
   "outputs": [
    {
     "name": "stdout",
     "output_type": "stream",
     "text": [
      "remainder is 5\n",
      "3\n"
     ]
    }
   ],
   "source": [
    "rem=n%7\n",
    "print(\"remainder is\",rem)\n",
    "num=n//7\n",
    "print(num)\n",
    "n=num"
   ]
  },
  {
   "cell_type": "code",
   "execution_count": 10,
   "metadata": {},
   "outputs": [
    {
     "name": "stdout",
     "output_type": "stream",
     "text": [
      "remainder is 3\n",
      "0\n"
     ]
    }
   ],
   "source": [
    "rem=n%7\n",
    "print(\"remainder is\",rem)\n",
    "num=n//7\n",
    "print(num)\n",
    "n=num"
   ]
  },
  {
   "cell_type": "code",
   "execution_count": 27,
   "metadata": {},
   "outputs": [
    {
     "name": "stdout",
     "output_type": "stream",
     "text": [
      "Number in base 7 is 350565\n"
     ]
    }
   ],
   "source": [
    "n=62718\n",
    "res=\"\"\n",
    "while n>0:\n",
    "    rem=n%7\n",
    "    num=n//7\n",
    "\n",
    "    n=num\n",
    "    res=res+str(rem)\n",
    "\n",
    "    reverse_str=res[::-1]\n",
    "print(\"Number in base 7 is\",reverse_str)\n",
    "    \n"
   ]
  },
  {
   "cell_type": "code",
   "execution_count": null,
   "metadata": {},
   "outputs": [],
   "source": [
    "n=int(input(\"Enter no in Base 10 \"))\n",
    "res=\"\"\n",
    "while n>0:\n",
    "    rem=n%7\n",
    "    num=n//7\n",
    "\n",
    "    n=num\n",
    "    res=res+str(rem)\n",
    "\n",
    "    reverse_str=res[::-1]\n",
    "print(\"Number in base 7 is\",reverse_str)\n",
    "    "
   ]
  },
  {
   "cell_type": "code",
   "execution_count": 2,
   "metadata": {},
   "outputs": [
    {
     "name": "stdout",
     "output_type": "stream",
     "text": [
      "62718\n"
     ]
    }
   ],
   "source": [
    "n=350565\n",
    "no=str(n)\n",
    "res=0\n",
    "rev=no[::-1]\n",
    "for index,num in enumerate(rev):\n",
    "\n",
    "\n",
    "    i=int(pow(7,index))\n",
    "    num=int(num)\n",
    "    r=i*num\n",
    "    \n",
    "    res=res+r\n",
    "print(res)"
   ]
  },
  {
   "cell_type": "code",
   "execution_count": 1,
   "metadata": {},
   "outputs": [
    {
     "data": {
      "text/plain": [
       "4"
      ]
     },
     "execution_count": 1,
     "metadata": {},
     "output_type": "execute_result"
    }
   ],
   "source": [
    "2+2"
   ]
  },
  {
   "cell_type": "code",
   "execution_count": 3,
   "metadata": {
    "scrolled": true
   },
   "outputs": [
    {
     "name": "stdout",
     "output_type": "stream",
     "text": [
      "enter no35\n",
      "26\n"
     ]
    }
   ],
   "source": [
    "n=int(input(\"enter no\"))\n",
    "no=str(n)\n",
    "res=0\n",
    "rev=no[::-1]\n",
    "for index,num in enumerate(rev):\n",
    "\n",
    "\n",
    "    i=int(pow(7,index))\n",
    "    num=int(num)\n",
    "    r=i*num\n",
    "    \n",
    "    res=res+r\n",
    "print(res)"
   ]
  },
  {
   "cell_type": "code",
   "execution_count": 4,
   "metadata": {},
   "outputs": [
    {
     "name": "stdout",
     "output_type": "stream",
     "text": [
      "189\n"
     ]
    }
   ],
   "source": [
    "n=1224\n",
    "no=str(n)\n",
    "res=0\n",
    "rev=no[::-1]\n",
    "for index,num in enumerate(rev):\n",
    "    i=int(pow(5,index))\n",
    "    num=int(num)\n",
    "    r=i*num\n",
    "    res=res+r\n",
    "print(res)"
   ]
  },
  {
   "cell_type": "code",
   "execution_count": 5,
   "metadata": {},
   "outputs": [],
   "source": [
    "def extract(mult,result,num):\n",
    "    rem=num%10\n",
    "    result=result+rem*mult\n",
    "    num=num//10\n",
    "    mult=mult*5\n",
    "    if num==0:\n",
    "        return result\n",
    "    else:\n",
    "        return extract(mult,result,num)"
   ]
  },
  {
   "cell_type": "code",
   "execution_count": 6,
   "metadata": {},
   "outputs": [
    {
     "name": "stdout",
     "output_type": "stream",
     "text": [
      "67339\n"
     ]
    }
   ],
   "source": [
    "mult,result,num=1,0,4123324\n",
    "result=extract(mult,result,num)\n",
    "print(result)"
   ]
  },
  {
   "cell_type": "code",
   "execution_count": null,
   "metadata": {},
   "outputs": [],
   "source": []
  }
 ],
 "metadata": {
  "kernelspec": {
   "display_name": "Python 3",
   "language": "python",
   "name": "python3"
  },
  "language_info": {
   "codemirror_mode": {
    "name": "ipython",
    "version": 3
   },
   "file_extension": ".py",
   "mimetype": "text/x-python",
   "name": "python",
   "nbconvert_exporter": "python",
   "pygments_lexer": "ipython3",
   "version": "3.6.8"
  },
  "toc": {
   "base_numbering": 1,
   "nav_menu": {},
   "number_sections": true,
   "sideBar": true,
   "skip_h1_title": false,
   "title_cell": "Table of Contents",
   "title_sidebar": "Contents",
   "toc_cell": false,
   "toc_position": {},
   "toc_section_display": true,
   "toc_window_display": false
  }
 },
 "nbformat": 4,
 "nbformat_minor": 2
}
