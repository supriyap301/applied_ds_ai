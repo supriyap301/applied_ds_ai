{
 "cells": [
  {
   "cell_type": "markdown",
   "metadata": {},
   "source": [
    "Q1: Choose your base between 3 and 13. And write upto 3 three digit numbers in that base.\n",
    "\n",
    "base 7\n",
    "\n",
    "\n",
    "0    10    20     30     40     50     60     100    \n",
    "1    11    21     31     41     51     61     101\n",
    "2    12    22     32     42     52     62     102\n",
    "3    13    23     33     43     53     63     103\n",
    "4    14    24     34     44     54     64     104\n",
    "5    15    25     35     45     55     65     105\n",
    "6    16    26     36     46     56     66     106\n",
    "\n",
    "\n",
    "------------------------------------------------------------------------------------------------------------------\n",
    "\n",
    "\n",
    "Q2: Add/Substract single digit and multiple digits in your number system\n",
    "\n",
    "    Addition table\n",
    "    \n",
    "    0 |  1   2   3   4   5   6 \n",
    "    ----------------------------\n",
    "    1 |  2   3   4   5   6   10\n",
    "    2 |  3   4   5   6   10  11\n",
    "    3 |  4   5   6   10  11  12\n",
    "    4 |  5   6   10  11  12  13\n",
    "    5 |  6   10  11  12  13  14\n",
    "    6 |  10  11  12  13  14  15\n",
    "    \n",
    "    \n",
    "  Addition of digits:\n",
    "  \n",
    "   3+6=12\n",
    "   \n",
    "   313+3=313+1+1+1\n",
    "        = 316+1+1\n",
    "        = 320+1\n",
    "        = 321\n",
    "\n",
    "   345+23=401\n",
    "\n",
    "  Substraction of digits:\n",
    "  \n",
    "  6-4=2\n",
    "  \n",
    "  223-14=206\n",
    "  \n",
    "  \n",
    "-------------------------------------------------------------------------------------------------------------------\n",
    "\n",
    "\n",
    "Q3: Prepare a table of single digit multiplications in your number system.\n",
    "\n",
    "    0  |  1    2    3    4    5    6\n",
    "   ---------------------------------- \n",
    "    1  |  1    2    3    4    5    6\n",
    "    2  |  2    4    6    11   13   15\n",
    "    3  |  3    6    12   15   21   24\n",
    "    4  |  4    11   15   22   26   33\n",
    "    5  |  5    13   21   26   34   42\n",
    "    6  |  6    15   24   33   42   51\n",
    "    \n",
    "    \n",
    "-------------------------------------------------------------------------------------------------------------------\n",
    "\n",
    "\n",
    "Q4: Multiply multiple digits in your number system\n",
    "\n",
    "        12\n",
    "      * 15\n",
    "    --------\n",
    "        63\n",
    "     + 12*\n",
    "    --------\n",
    "       213\n",
    "\n",
    "\n",
    "\n",
    "        126\n",
    "      *   4\n",
    "    ----------\n",
    "        543\n",
    "        \n",
    "        \n",
    "-------------------------------------------------------------------------------------------------------------------\n",
    "\n",
    "Q5: Convert 1, 10, 20, 30, 100 from your base to base10.\n",
    "\n",
    "base 7 to base 10\n",
    "\n",
    "1-> 1\n",
    "\n",
    "10-> 7\n",
    "\n",
    "20-> 14\n",
    "\n",
    "30-> 21\n",
    "\n",
    "100-> 49\n",
    "\n",
    "\n",
    "-------------------------------------------------------------------------------------------------------------------\n",
    "\n",
    "Q6. Write a strategy to convert a number in your base to base 10 in plain english or pseudo code or python\n"
   ]
  },
  {
   "cell_type": "code",
   "execution_count": 5,
   "metadata": {},
   "outputs": [
    {
     "name": "stdout",
     "output_type": "stream",
     "text": [
      "enter no in base7 55\n",
      "Number after converting to base10 40\n"
     ]
    }
   ],
   "source": [
    "n=int(input(\"enter no in base7 \"))\n",
    "no=str(n)\n",
    "res=0\n",
    "rev=no[::-1]\n",
    "for index,num in enumerate(rev):\n",
    "\n",
    "    i=int(pow(7,index))\n",
    "    num=int(num)\n",
    "    r=i*num\n",
    "    res=res+r\n",
    "print(\"Number after converting to base10\",res)"
   ]
  },
  {
   "cell_type": "markdown",
   "metadata": {},
   "source": [
    "\n",
    "    or Using Recursion\n",
    "    "
   ]
  },
  {
   "cell_type": "code",
   "execution_count": 9,
   "metadata": {},
   "outputs": [
    {
     "name": "stdout",
     "output_type": "stream",
     "text": [
      "Enter number in Base7 55\n",
      "Number in Base10 is 40\n"
     ]
    }
   ],
   "source": [
    "def extract(mult,result,num):\n",
    "    rem=num%10\n",
    "    result=result+rem*mult\n",
    "    num=num//10\n",
    "    mult=mult*7\n",
    "    if num==0:\n",
    "        return result\n",
    "    else:\n",
    "        return extract(mult,result,num)\n",
    "num=int(input(\"Enter number in Base7 \"))\n",
    "\n",
    "mult,result=1,0\n",
    "result=extract(mult,result,num)\n",
    "print(f\"Number in Base10 is {result}\")"
   ]
  },
  {
   "cell_type": "markdown",
   "metadata": {},
   "source": [
    "Q7. Write a strategy to convert a number in base N to base M in plain english or pseudo code or python\n",
    "\n"
   ]
  },
  {
   "cell_type": "code",
   "execution_count": 2,
   "metadata": {},
   "outputs": [
    {
     "name": "stdout",
     "output_type": "stream",
     "text": [
      "Enter Base N  4\n",
      "Enter Base M  7\n",
      "Enter Number in base N  321\n",
      "value of 321 after converting to Base10 57\n",
      "value of 321 in base4 after converting to Base7 111\n"
     ]
    }
   ],
   "source": [
    "def base10(mult, result, num, n):\n",
    "    rem = num % 10\n",
    "    result = result + rem * mult\n",
    "    num = num // 10\n",
    "    mult = mult * n\n",
    "    if num == 0:\n",
    "        return result\n",
    "    else:\n",
    "        return base10(mult, result, num, n)\n",
    "\n",
    "\n",
    "def baseM(num, mul, res, m):\n",
    "    rem = num % m\n",
    "    num = num // m\n",
    "    res = res + rem * mul\n",
    "    mul = mul * 10\n",
    "    if num == 0:\n",
    "        return res\n",
    "    else:\n",
    "        return baseM(num, mul, res, m)\n",
    "\n",
    "\n",
    "n = int(input(\"Enter Base N  \"))\n",
    "m = int(input(\"Enter Base M  \"))\n",
    "num = int(input(\"Enter Number in base N  \"))\n",
    "no = num\n",
    "mult, result = 1, 0\n",
    "result = base10(mult, result, num, n)\n",
    "print(f\"value of {no} after converting to Base10\", result)\n",
    "num = result\n",
    "mul, res = 1, 0\n",
    "res = baseM(num, mul, res, m)\n",
    "print(f\"value of {no} in base{n} after converting to Base{m}\", res)\n"
   ]
  },
  {
   "cell_type": "markdown",
   "metadata": {},
   "source": [
    "Q8: In base 7, how many numbers can you represent in 5 digits?\n",
    "Ans:7**5\n",
    "\n",
    "------------------------------------------------------------------------------------------------------------------\n",
    "\n",
    "Q9: In base B, how many numbers can you represent in d digits?\n",
    "Ans: B**d\n",
    "\n",
    "------------------------------------------------------------------------------------------------------------------\n",
    "\n",
    "Q10: To represent all numbers upto to but not including 10000 in base10, how many digits do you need?\n",
    "Ans:10000 i.e 0-9999\n",
    "    10**d=10000\n",
    "    d=log10(10000)\n",
    "    d=4\n",
    "    \n",
    "------------------------------------------------------------------------------------------------------------------\n",
    "\n",
    "Q10: To represent N numbers, how many digits do we need in base 10?\n",
    "Ans: log10(N)\n",
    "\n",
    "-----------------------------------------------------------------------------------------------------------------"
   ]
  }
 ],
 "metadata": {
  "kernelspec": {
   "display_name": "Python 3",
   "language": "python",
   "name": "python3"
  },
  "language_info": {
   "codemirror_mode": {
    "name": "ipython",
    "version": 3
   },
   "file_extension": ".py",
   "mimetype": "text/x-python",
   "name": "python",
   "nbconvert_exporter": "python",
   "pygments_lexer": "ipython3",
   "version": "3.6.8"
  },
  "toc": {
   "base_numbering": 1,
   "nav_menu": {},
   "number_sections": true,
   "sideBar": true,
   "skip_h1_title": false,
   "title_cell": "Table of Contents",
   "title_sidebar": "Contents",
   "toc_cell": false,
   "toc_position": {},
   "toc_section_display": true,
   "toc_window_display": false
  }
 },
 "nbformat": 4,
 "nbformat_minor": 2
}
