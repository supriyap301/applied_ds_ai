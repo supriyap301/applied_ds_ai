{
 "cells": [
  {
   "cell_type": "code",
   "execution_count": 1,
   "metadata": {},
   "outputs": [],
   "source": [
    "# Simple Interest\n",
    "\n",
    "def calculate_interest(principal,rate,time):\n",
    "    interest=(principal*rate*time)/100\n",
    "    return interest"
   ]
  },
  {
   "cell_type": "code",
   "execution_count": 2,
   "metadata": {},
   "outputs": [
    {
     "name": "stdout",
     "output_type": "stream",
     "text": [
      "Simple Interest is 100.0\n"
     ]
    }
   ],
   "source": [
    "result=calculate_interest(1000,5,2)\n",
    "print(f\"Simple Interest is {result}\")"
   ]
  },
  {
   "cell_type": "code",
   "execution_count": 3,
   "metadata": {},
   "outputs": [
    {
     "name": "stdout",
     "output_type": "stream",
     "text": [
      "Simple Interest is 193.5\n"
     ]
    }
   ],
   "source": [
    "result=calculate_interest(1500,4.3,3)\n",
    "print(f\"Simple Interest is {result}\")"
   ]
  },
  {
   "cell_type": "code",
   "execution_count": 4,
   "metadata": {},
   "outputs": [
    {
     "name": "stdout",
     "output_type": "stream",
     "text": [
      "Simple Interest is 0.0\n"
     ]
    }
   ],
   "source": [
    "result=calculate_interest(500,10,0)\n",
    "print(f\"Simple Interest is {result}\")"
   ]
  },
  {
   "cell_type": "code",
   "execution_count": 1,
   "metadata": {},
   "outputs": [],
   "source": [
    "# Hypotenuse\n",
    "\n",
    "def calculate_hypotenuse(base,height):\n",
    "    hypotenuse=(base*base+height*height)**0.5\n",
    "    return hypotenuse"
   ]
  },
  {
   "cell_type": "code",
   "execution_count": 6,
   "metadata": {},
   "outputs": [
    {
     "name": "stdout",
     "output_type": "stream",
     "text": [
      "Length of Hypotenuse is 5.0\n"
     ]
    }
   ],
   "source": [
    "length=calculate_hypotenuse(3,4)\n",
    "print(f\"Length of Hypotenuse is {length}\")"
   ]
  },
  {
   "cell_type": "code",
   "execution_count": 7,
   "metadata": {},
   "outputs": [
    {
     "name": "stdout",
     "output_type": "stream",
     "text": [
      "Length of Hypotenuse is 13.0\n"
     ]
    }
   ],
   "source": [
    "length=calculate_hypotenuse(5,12)\n",
    "print(f\"Length of Hypotenuse is {length}\")"
   ]
  },
  {
   "cell_type": "code",
   "execution_count": 8,
   "metadata": {},
   "outputs": [
    {
     "name": "stdout",
     "output_type": "stream",
     "text": [
      "Length of Hypotenuse is 0.0\n"
     ]
    }
   ],
   "source": [
    "length=calculate_hypotenuse(0,0)\n",
    "print(f\"Length of Hypotenuse is {length}\")"
   ]
  },
  {
   "cell_type": "code",
   "execution_count": 15,
   "metadata": {},
   "outputs": [],
   "source": [
    "# 2D Distance\n",
    "\n",
    "def find_distance_2d(x1,y1,x2,y2):\n",
    "    x=x2-x1\n",
    "    y=y2-y1\n",
    "    dist=(x*x+y*y)**0.5\n",
    "    return dist\n"
   ]
  },
  {
   "cell_type": "code",
   "execution_count": 16,
   "metadata": {},
   "outputs": [
    {
     "name": "stdout",
     "output_type": "stream",
     "text": [
      "2D Distance is 5.0\n"
     ]
    }
   ],
   "source": [
    "distance=find_distance_2d(0,0,3,4)\n",
    "print(f\"2D Distance is {distance}\")"
   ]
  },
  {
   "cell_type": "code",
   "execution_count": 17,
   "metadata": {},
   "outputs": [
    {
     "name": "stdout",
     "output_type": "stream",
     "text": [
      "2D Distance is 5.0\n"
     ]
    }
   ],
   "source": [
    "distance=find_distance_2d(1,2,4,6)\n",
    "print(f\"2D Distance is {distance}\")"
   ]
  },
  {
   "cell_type": "code",
   "execution_count": 18,
   "metadata": {},
   "outputs": [],
   "source": [
    "# Using math.sqrt\n",
    "\n",
    "from math import sqrt\n",
    "\n",
    "def find_distance_2d(x1,y1,x2,y2):\n",
    "    x=x2-x1\n",
    "    y=y2-y1\n",
    "    dist=sqrt(x*x+y*y)\n",
    "    return dist"
   ]
  },
  {
   "cell_type": "code",
   "execution_count": 19,
   "metadata": {},
   "outputs": [
    {
     "name": "stdout",
     "output_type": "stream",
     "text": [
      "2D Distance is 5.0\n"
     ]
    }
   ],
   "source": [
    "distance=find_distance_2d(0,0,3,4)\n",
    "print(f\"2D Distance is {distance}\")"
   ]
  },
  {
   "cell_type": "code",
   "execution_count": 20,
   "metadata": {},
   "outputs": [],
   "source": [
    "# 3D Distance\n",
    "\n",
    "from math import sqrt\n",
    "\n",
    "def find_distance_3d(x1,y1,z1,x2,y2,z2):\n",
    "    x=x2-x1\n",
    "    y=y2-y1\n",
    "    z=z2-z1\n",
    "    dist=sqrt(x*x+y*y+z*z)\n",
    "    return dist"
   ]
  },
  {
   "cell_type": "code",
   "execution_count": 21,
   "metadata": {},
   "outputs": [
    {
     "name": "stdout",
     "output_type": "stream",
     "text": [
      "3D Distance is 1.7320508075688772\n"
     ]
    }
   ],
   "source": [
    "distance=find_distance_3d(0,0,0,1,1,1)\n",
    "print(f\"3D Distance is {distance}\")"
   ]
  },
  {
   "cell_type": "code",
   "execution_count": 22,
   "metadata": {},
   "outputs": [
    {
     "name": "stdout",
     "output_type": "stream",
     "text": [
      "3D Distance is 0.0\n"
     ]
    }
   ],
   "source": [
    "distance=find_distance_3d(2,3,5,2,3,5)\n",
    "print(f\"3D Distance is {distance}\")"
   ]
  },
  {
   "cell_type": "code",
   "execution_count": 23,
   "metadata": {},
   "outputs": [
    {
     "name": "stdout",
     "output_type": "stream",
     "text": [
      "3D Distance is 7.810249675906654\n"
     ]
    }
   ],
   "source": [
    "distance=find_distance_3d(1,2,3,4,6,9)\n",
    "print(f\"3D Distance is {distance}\")"
   ]
  },
  {
   "cell_type": "code",
   "execution_count": 24,
   "metadata": {},
   "outputs": [],
   "source": [
    "# Manhatten Distance\n",
    "\n",
    "def manhatten_distance(x1,y1,x2,y2):\n",
    "    dist=abs(x1-x2)+abs(y1-y2)\n",
    "    return dist"
   ]
  },
  {
   "cell_type": "code",
   "execution_count": 25,
   "metadata": {},
   "outputs": [
    {
     "name": "stdout",
     "output_type": "stream",
     "text": [
      "Manhatten Distance is 5\n"
     ]
    }
   ],
   "source": [
    "distance=manhatten_distance(2,3,5,1)\n",
    "print(f\"Manhatten Distance is {distance}\")"
   ]
  },
  {
   "cell_type": "code",
   "execution_count": 26,
   "metadata": {},
   "outputs": [
    {
     "name": "stdout",
     "output_type": "stream",
     "text": [
      "Manhatten Distance is 0\n"
     ]
    }
   ],
   "source": [
    "distance=manhatten_distance(0,0,0,0)\n",
    "print(f\"Manhatten Distance is {distance}\")"
   ]
  },
  {
   "cell_type": "code",
   "execution_count": 27,
   "metadata": {},
   "outputs": [
    {
     "name": "stdout",
     "output_type": "stream",
     "text": [
      "Manhatten Distance is 4\n"
     ]
    }
   ],
   "source": [
    "distance=manhatten_distance(-1,-1,1,1)\n",
    "print(f\"Manhatten Distance is {distance}\")"
   ]
  },
  {
   "cell_type": "code",
   "execution_count": 28,
   "metadata": {},
   "outputs": [],
   "source": [
    "# Predict Y on straight line 2D\n",
    "\n",
    "def predict(m,c,x):\n",
    "    y=m*x+c\n",
    "    return y"
   ]
  },
  {
   "cell_type": "code",
   "execution_count": 29,
   "metadata": {},
   "outputs": [
    {
     "name": "stdout",
     "output_type": "stream",
     "text": [
      " Y on straight line 2D is: 11\n"
     ]
    }
   ],
   "source": [
    "y=predict(2,3,4)\n",
    "print(f\" Y on straight line 2D is: {y}\")"
   ]
  },
  {
   "cell_type": "code",
   "execution_count": 30,
   "metadata": {},
   "outputs": [
    {
     "name": "stdout",
     "output_type": "stream",
     "text": [
      " Y on straight line 2D is: 3\n"
     ]
    }
   ],
   "source": [
    "y=predict(-1,5,2)\n",
    "print(f\" Y on straight line 2D is: {y}\")"
   ]
  },
  {
   "cell_type": "code",
   "execution_count": 39,
   "metadata": {},
   "outputs": [],
   "source": [
    "# Learn Line equation from 2 points\n",
    "\n",
    "def fit(x1,y1,x2,y2):\n",
    "    \n",
    "    # Calculate slope m\n",
    "    # line equation y=mx+c\n",
    "    # for y when x=0\n",
    "    # m=y/x\n",
    "    \n",
    "    m=(y2-y1)/(x2-x1)\n",
    "    \n",
    "    # calculate y intercept c\n",
    "    # from line equation c=y-mx\n",
    "    \n",
    "    x=x2-x1\n",
    "    y=y2-y1\n",
    "    c=y-m*x\n",
    "    return m,c"
   ]
  },
  {
   "cell_type": "code",
   "execution_count": 40,
   "metadata": {},
   "outputs": [
    {
     "name": "stdout",
     "output_type": "stream",
     "text": [
      " Slope and intercept is (2.0, 0.0)\n"
     ]
    }
   ],
   "source": [
    "slope,intercept=fit(1,2,3,6)\n",
    "print(f\" Slope and intercept is {slope,intercept}\")"
   ]
  },
  {
   "cell_type": "code",
   "execution_count": 41,
   "metadata": {},
   "outputs": [
    {
     "name": "stdout",
     "output_type": "stream",
     "text": [
      " Slope and intercept is (2.0, 0.0)\n"
     ]
    }
   ],
   "source": [
    "slope,intercept=fit(0,5,2,9)\n",
    "print(f\" Slope and intercept is {slope,intercept}\")"
   ]
  },
  {
   "cell_type": "code",
   "execution_count": 42,
   "metadata": {},
   "outputs": [
    {
     "name": "stdout",
     "output_type": "stream",
     "text": [
      " Slope and intercept is (1.3333333333333333, 0.0)\n"
     ]
    }
   ],
   "source": [
    "slope,intercept=fit(2,3,5,7)\n",
    "print(f\" Slope and intercept is {slope,intercept}\")"
   ]
  },
  {
   "cell_type": "code",
   "execution_count": null,
   "metadata": {},
   "outputs": [],
   "source": []
  }
 ],
 "metadata": {
  "kernelspec": {
   "display_name": "Python 3",
   "language": "python",
   "name": "python3"
  },
  "language_info": {
   "codemirror_mode": {
    "name": "ipython",
    "version": 3
   },
   "file_extension": ".py",
   "mimetype": "text/x-python",
   "name": "python",
   "nbconvert_exporter": "python",
   "pygments_lexer": "ipython3",
   "version": "3.6.8"
  },
  "toc": {
   "base_numbering": 1,
   "nav_menu": {},
   "number_sections": true,
   "sideBar": true,
   "skip_h1_title": false,
   "title_cell": "Table of Contents",
   "title_sidebar": "Contents",
   "toc_cell": false,
   "toc_position": {},
   "toc_section_display": true,
   "toc_window_display": false
  }
 },
 "nbformat": 4,
 "nbformat_minor": 2
}
